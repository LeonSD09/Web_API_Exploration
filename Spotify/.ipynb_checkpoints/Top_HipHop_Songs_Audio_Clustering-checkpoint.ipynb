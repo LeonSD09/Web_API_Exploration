{
 "cells": [
  {
   "cell_type": "markdown",
   "metadata": {},
   "source": [
    "# Top Hip Hop Audio Clustering"
   ]
  },
  {
   "cell_type": "code",
   "execution_count": 7,
   "metadata": {
    "collapsed": false
   },
   "outputs": [],
   "source": [
    "import spotipy\n",
    "import spotipy.util as util\n",
    "from spotipy.oauth2 import SpotifyClientCredentials\n",
    "client_credentials_manager = SpotifyClientCredentials(client_id='80855927ce1943f1af330652819bcc2b',client_secret='b3cb96834fec4495858f359c11a5254b')\n",
    "sp = spotipy.Spotify(client_credentials_manager=client_credentials_manager)\n",
    "\n",
    "import pprint\n",
    "\n",
    "import pandas as pd\n",
    "import numpy as np"
   ]
  },
  {
   "cell_type": "markdown",
   "metadata": {},
   "source": [
    "#### Import 10K top Hip Hop songs"
   ]
  },
  {
   "cell_type": "code",
   "execution_count": 81,
   "metadata": {
    "collapsed": true
   },
   "outputs": [],
   "source": [
    "# If haven't already, generate data and bring in via clipboard\n",
    "#topSongs = pd.read_clipboard()\n",
    "#topSongs.to_csv('topHipHop.csv')\n",
    "# If data has already been generated, bring in via CSV\n",
    "topSongs = pd.read_csv('topHipHop.csv')\n",
    "topSongs = topSongs.loc[:,['artist_name','song_name']]"
   ]
  },
  {
   "cell_type": "code",
   "execution_count": 82,
   "metadata": {
    "collapsed": false
   },
   "outputs": [
    {
     "name": "stdout",
     "output_type": "stream",
     "text": [
      "10,000 songs in dataset\n"
     ]
    }
   ],
   "source": [
    "print('{:,} songs in dataset'.format(len(topSongs)))"
   ]
  },
  {
   "cell_type": "code",
   "execution_count": 83,
   "metadata": {
    "collapsed": false
   },
   "outputs": [
    {
     "data": {
      "text/html": [
       "<div>\n",
       "<style>\n",
       "    .dataframe thead tr:only-child th {\n",
       "        text-align: right;\n",
       "    }\n",
       "\n",
       "    .dataframe thead th {\n",
       "        text-align: left;\n",
       "    }\n",
       "\n",
       "    .dataframe tbody tr th {\n",
       "        vertical-align: top;\n",
       "    }\n",
       "</style>\n",
       "<table border=\"1\" class=\"dataframe\">\n",
       "  <thead>\n",
       "    <tr style=\"text-align: right;\">\n",
       "      <th></th>\n",
       "      <th>artist_name</th>\n",
       "      <th>song_name</th>\n",
       "    </tr>\n",
       "  </thead>\n",
       "  <tbody>\n",
       "    <tr>\n",
       "      <th>0</th>\n",
       "      <td>Drake</td>\n",
       "      <td>Nice For What</td>\n",
       "    </tr>\n",
       "    <tr>\n",
       "      <th>1</th>\n",
       "      <td>Drake</td>\n",
       "      <td>God's Plan</td>\n",
       "    </tr>\n",
       "    <tr>\n",
       "      <th>2</th>\n",
       "      <td>Post Malone</td>\n",
       "      <td>Psycho (feat. Ty Dolla $ign)</td>\n",
       "    </tr>\n",
       "    <tr>\n",
       "      <th>3</th>\n",
       "      <td>BlocBoy JB</td>\n",
       "      <td>Look Alive (feat. Drake)</td>\n",
       "    </tr>\n",
       "    <tr>\n",
       "      <th>4</th>\n",
       "      <td>Rich The Kid</td>\n",
       "      <td>Plug Walk</td>\n",
       "    </tr>\n",
       "    <tr>\n",
       "      <th>5</th>\n",
       "      <td>J Balvin, Cardi B, Bad Bunny</td>\n",
       "      <td>I Like It</td>\n",
       "    </tr>\n",
       "    <tr>\n",
       "      <th>6</th>\n",
       "      <td>Migos</td>\n",
       "      <td>Walk It Talk It (feat. Drake)</td>\n",
       "    </tr>\n",
       "    <tr>\n",
       "      <th>7</th>\n",
       "      <td>Cardi B</td>\n",
       "      <td>Be Careful</td>\n",
       "    </tr>\n",
       "    <tr>\n",
       "      <th>8</th>\n",
       "      <td>Lil Dicky</td>\n",
       "      <td>Freaky Friday (feat. Chris Brown)</td>\n",
       "    </tr>\n",
       "    <tr>\n",
       "      <th>9</th>\n",
       "      <td>Post Malone</td>\n",
       "      <td>Rockstar (feat. 21 Savage)</td>\n",
       "    </tr>\n",
       "    <tr>\n",
       "      <th>10</th>\n",
       "      <td>J. Cole</td>\n",
       "      <td>KOD</td>\n",
       "    </tr>\n",
       "    <tr>\n",
       "      <th>11</th>\n",
       "      <td>Swae Lee, Slim Jxmmi, Rae Sremmurd</td>\n",
       "      <td>Powerglide (feat. Juicy J)</td>\n",
       "    </tr>\n",
       "    <tr>\n",
       "      <th>12</th>\n",
       "      <td>Offset, Metro Boomin</td>\n",
       "      <td>Ric Flair Drip</td>\n",
       "    </tr>\n",
       "    <tr>\n",
       "      <th>13</th>\n",
       "      <td>SZA, Kendrick Lamar</td>\n",
       "      <td>All The Stars</td>\n",
       "    </tr>\n",
       "    <tr>\n",
       "      <th>14</th>\n",
       "      <td>Lil Baby, Drake</td>\n",
       "      <td>Yes Indeed</td>\n",
       "    </tr>\n",
       "    <tr>\n",
       "      <th>15</th>\n",
       "      <td>Migos</td>\n",
       "      <td>Stir Fry</td>\n",
       "    </tr>\n",
       "    <tr>\n",
       "      <th>16</th>\n",
       "      <td>J. Cole</td>\n",
       "      <td>Kevin's Heart</td>\n",
       "    </tr>\n",
       "    <tr>\n",
       "      <th>17</th>\n",
       "      <td>Cardi B</td>\n",
       "      <td>Drip (feat. Migos)</td>\n",
       "    </tr>\n",
       "    <tr>\n",
       "      <th>18</th>\n",
       "      <td>Cardi B</td>\n",
       "      <td>Bartier Cardi (feat. 21 Savage)</td>\n",
       "    </tr>\n",
       "    <tr>\n",
       "      <th>19</th>\n",
       "      <td>Kendrick Lamar, Jay Rock, James Blake, Future</td>\n",
       "      <td>King's Dead</td>\n",
       "    </tr>\n",
       "    <tr>\n",
       "      <th>20</th>\n",
       "      <td>Cardi B</td>\n",
       "      <td>Ring (feat. Kehlani)</td>\n",
       "    </tr>\n",
       "    <tr>\n",
       "      <th>21</th>\n",
       "      <td>Post Malone</td>\n",
       "      <td>I Fall Apart</td>\n",
       "    </tr>\n",
       "    <tr>\n",
       "      <th>22</th>\n",
       "      <td>Post Malone</td>\n",
       "      <td>Rich &amp; Sad</td>\n",
       "    </tr>\n",
       "    <tr>\n",
       "      <th>23</th>\n",
       "      <td>J. Cole</td>\n",
       "      <td>ATM</td>\n",
       "    </tr>\n",
       "    <tr>\n",
       "      <th>24</th>\n",
       "      <td>YoungBoy Never Broke Again</td>\n",
       "      <td>Outside Today</td>\n",
       "    </tr>\n",
       "    <tr>\n",
       "      <th>25</th>\n",
       "      <td>Post Malone</td>\n",
       "      <td>Ball For Me (feat. Nicki Minaj)</td>\n",
       "    </tr>\n",
       "    <tr>\n",
       "      <th>26</th>\n",
       "      <td>Post Malone</td>\n",
       "      <td>Better Now</td>\n",
       "    </tr>\n",
       "    <tr>\n",
       "      <th>27</th>\n",
       "      <td>Nicki Minaj</td>\n",
       "      <td>Chun-Li</td>\n",
       "    </tr>\n",
       "    <tr>\n",
       "      <th>28</th>\n",
       "      <td>J. Cole</td>\n",
       "      <td>Photograph</td>\n",
       "    </tr>\n",
       "    <tr>\n",
       "      <th>29</th>\n",
       "      <td>Famous Dex</td>\n",
       "      <td>Japan</td>\n",
       "    </tr>\n",
       "    <tr>\n",
       "      <th>30</th>\n",
       "      <td>Cardi B</td>\n",
       "      <td>Bodak Yellow</td>\n",
       "    </tr>\n",
       "    <tr>\n",
       "      <th>31</th>\n",
       "      <td>Post Malone</td>\n",
       "      <td>Paranoid</td>\n",
       "    </tr>\n",
       "    <tr>\n",
       "      <th>32</th>\n",
       "      <td>Post Malone</td>\n",
       "      <td>Spoil My Night (feat. Swae Lee)</td>\n",
       "    </tr>\n",
       "    <tr>\n",
       "      <th>33</th>\n",
       "      <td>Rich The Kid</td>\n",
       "      <td>New Freezer (feat. Kendrick Lamar)</td>\n",
       "    </tr>\n",
       "    <tr>\n",
       "      <th>34</th>\n",
       "      <td>J. Cole</td>\n",
       "      <td>Motiv8</td>\n",
       "    </tr>\n",
       "    <tr>\n",
       "      <th>35</th>\n",
       "      <td>Cardi B</td>\n",
       "      <td>Best Life (feat. Chance the Rapper)</td>\n",
       "    </tr>\n",
       "    <tr>\n",
       "      <th>36</th>\n",
       "      <td>Nicki Minaj, Migos, Cardi B</td>\n",
       "      <td>MotorSport</td>\n",
       "    </tr>\n",
       "    <tr>\n",
       "      <th>37</th>\n",
       "      <td>Cardi B</td>\n",
       "      <td>I Do (feat. SZA)</td>\n",
       "    </tr>\n",
       "    <tr>\n",
       "      <th>38</th>\n",
       "      <td>The Weeknd, Kendrick Lamar</td>\n",
       "      <td>Pray For Me</td>\n",
       "    </tr>\n",
       "    <tr>\n",
       "      <th>39</th>\n",
       "      <td>Childish Gambino</td>\n",
       "      <td>This Is America</td>\n",
       "    </tr>\n",
       "    <tr>\n",
       "      <th>40</th>\n",
       "      <td>Cardi B</td>\n",
       "      <td>Bickenhead</td>\n",
       "    </tr>\n",
       "    <tr>\n",
       "      <th>41</th>\n",
       "      <td>J. Cole</td>\n",
       "      <td>1985</td>\n",
       "    </tr>\n",
       "    <tr>\n",
       "      <th>42</th>\n",
       "      <td>Post Malone</td>\n",
       "      <td>Stay</td>\n",
       "    </tr>\n",
       "    <tr>\n",
       "      <th>43</th>\n",
       "      <td>Cardi B</td>\n",
       "      <td>Get Up 10</td>\n",
       "    </tr>\n",
       "    <tr>\n",
       "      <th>44</th>\n",
       "      <td>J. Cole</td>\n",
       "      <td>BRACKETS</td>\n",
       "    </tr>\n",
       "    <tr>\n",
       "      <th>45</th>\n",
       "      <td>Post Malone</td>\n",
       "      <td>Zack and Codeine</td>\n",
       "    </tr>\n",
       "    <tr>\n",
       "      <th>46</th>\n",
       "      <td>Post Malone</td>\n",
       "      <td>Takin' Shots</td>\n",
       "    </tr>\n",
       "    <tr>\n",
       "      <th>47</th>\n",
       "      <td>J. Cole</td>\n",
       "      <td>The Cut Off (feat. kiLL edward)</td>\n",
       "    </tr>\n",
       "    <tr>\n",
       "      <th>48</th>\n",
       "      <td>Lil Skies</td>\n",
       "      <td>Red Roses (feat. Landon Cube)</td>\n",
       "    </tr>\n",
       "    <tr>\n",
       "      <th>49</th>\n",
       "      <td>Cardi B</td>\n",
       "      <td>Thru Your Phone</td>\n",
       "    </tr>\n",
       "  </tbody>\n",
       "</table>\n",
       "</div>"
      ],
      "text/plain": [
       "                                      artist_name  \\\n",
       "0                                           Drake   \n",
       "1                                           Drake   \n",
       "2                                     Post Malone   \n",
       "3                                      BlocBoy JB   \n",
       "4                                    Rich The Kid   \n",
       "5                    J Balvin, Cardi B, Bad Bunny   \n",
       "6                                           Migos   \n",
       "7                                         Cardi B   \n",
       "8                                       Lil Dicky   \n",
       "9                                     Post Malone   \n",
       "10                                        J. Cole   \n",
       "11             Swae Lee, Slim Jxmmi, Rae Sremmurd   \n",
       "12                           Offset, Metro Boomin   \n",
       "13                            SZA, Kendrick Lamar   \n",
       "14                                Lil Baby, Drake   \n",
       "15                                          Migos   \n",
       "16                                        J. Cole   \n",
       "17                                        Cardi B   \n",
       "18                                        Cardi B   \n",
       "19  Kendrick Lamar, Jay Rock, James Blake, Future   \n",
       "20                                        Cardi B   \n",
       "21                                    Post Malone   \n",
       "22                                    Post Malone   \n",
       "23                                        J. Cole   \n",
       "24                     YoungBoy Never Broke Again   \n",
       "25                                    Post Malone   \n",
       "26                                    Post Malone   \n",
       "27                                    Nicki Minaj   \n",
       "28                                        J. Cole   \n",
       "29                                     Famous Dex   \n",
       "30                                        Cardi B   \n",
       "31                                    Post Malone   \n",
       "32                                    Post Malone   \n",
       "33                                   Rich The Kid   \n",
       "34                                        J. Cole   \n",
       "35                                        Cardi B   \n",
       "36                    Nicki Minaj, Migos, Cardi B   \n",
       "37                                        Cardi B   \n",
       "38                     The Weeknd, Kendrick Lamar   \n",
       "39                               Childish Gambino   \n",
       "40                                        Cardi B   \n",
       "41                                        J. Cole   \n",
       "42                                    Post Malone   \n",
       "43                                        Cardi B   \n",
       "44                                        J. Cole   \n",
       "45                                    Post Malone   \n",
       "46                                    Post Malone   \n",
       "47                                        J. Cole   \n",
       "48                                      Lil Skies   \n",
       "49                                        Cardi B   \n",
       "\n",
       "                              song_name  \n",
       "0                         Nice For What  \n",
       "1                            God's Plan  \n",
       "2          Psycho (feat. Ty Dolla $ign)  \n",
       "3              Look Alive (feat. Drake)  \n",
       "4                             Plug Walk  \n",
       "5                             I Like It  \n",
       "6         Walk It Talk It (feat. Drake)  \n",
       "7                            Be Careful  \n",
       "8     Freaky Friday (feat. Chris Brown)  \n",
       "9            Rockstar (feat. 21 Savage)  \n",
       "10                                  KOD  \n",
       "11           Powerglide (feat. Juicy J)  \n",
       "12                       Ric Flair Drip  \n",
       "13                        All The Stars  \n",
       "14                           Yes Indeed  \n",
       "15                             Stir Fry  \n",
       "16                        Kevin's Heart  \n",
       "17                   Drip (feat. Migos)  \n",
       "18      Bartier Cardi (feat. 21 Savage)  \n",
       "19                          King's Dead  \n",
       "20                 Ring (feat. Kehlani)  \n",
       "21                         I Fall Apart  \n",
       "22                           Rich & Sad  \n",
       "23                                  ATM  \n",
       "24                        Outside Today  \n",
       "25      Ball For Me (feat. Nicki Minaj)  \n",
       "26                           Better Now  \n",
       "27                              Chun-Li  \n",
       "28                           Photograph  \n",
       "29                                Japan  \n",
       "30                         Bodak Yellow  \n",
       "31                             Paranoid  \n",
       "32      Spoil My Night (feat. Swae Lee)  \n",
       "33   New Freezer (feat. Kendrick Lamar)  \n",
       "34                               Motiv8  \n",
       "35  Best Life (feat. Chance the Rapper)  \n",
       "36                           MotorSport  \n",
       "37                     I Do (feat. SZA)  \n",
       "38                          Pray For Me  \n",
       "39                      This Is America  \n",
       "40                           Bickenhead  \n",
       "41                                 1985  \n",
       "42                                 Stay  \n",
       "43                            Get Up 10  \n",
       "44                             BRACKETS  \n",
       "45                     Zack and Codeine  \n",
       "46                         Takin' Shots  \n",
       "47      The Cut Off (feat. kiLL edward)  \n",
       "48        Red Roses (feat. Landon Cube)  \n",
       "49                      Thru Your Phone  "
      ]
     },
     "execution_count": 83,
     "metadata": {},
     "output_type": "execute_result"
    }
   ],
   "source": [
    "topSongs.head(50)"
   ]
  },
  {
   "cell_type": "markdown",
   "metadata": {},
   "source": [
    "#### Get audio analysis information from Spotify"
   ]
  },
  {
   "cell_type": "markdown",
   "metadata": {},
   "source": [
    "First figure out how to get the Spotify song ID given the artist and/or song names."
   ]
  },
  {
   "cell_type": "code",
   "execution_count": 56,
   "metadata": {
    "collapsed": false
   },
   "outputs": [
    {
     "name": "stdout",
     "output_type": "stream",
     "text": [
      "(u'Nice For What', u'1cTZMwcBJT0Ka3UJPXOeeN')\n"
     ]
    }
   ],
   "source": [
    "# Given Artist Name, try to match on song name (in this case Drake)\n",
    "results = sp.search(q=topSongs.iloc[0].artist_name, limit=20)\n",
    "for i, t in enumerate(results['tracks']['items']):\n",
    "    if t['name'] == topSongs.iloc[0].song_name:\n",
    "        print(t['name'], t['id'])"
   ]
  },
  {
   "cell_type": "code",
   "execution_count": 113,
   "metadata": {
    "collapsed": false
   },
   "outputs": [
    {
     "data": {
      "text/plain": [
       "[u'spotify:track:4wFjTWCunQFKtukqrNijEt',\n",
       " u'spotify:track:5raxHz5pB08qa7Ge3LwrMr',\n",
       " u'spotify:track:5DnJLyEE7H8ykMpGshlKy5',\n",
       " u'spotify:track:21pln2er9Vpk8AhBQ4VUEs',\n",
       " u'spotify:track:0bMqUbRs5r5aoTzrP6mA3G',\n",
       " u'spotify:track:7qPuZdABkWCsHKZH5fSy4P',\n",
       " u'spotify:track:7GVx8lFtqehAM4v9mrPqON',\n",
       " u'spotify:track:34zBwp36K4bllpwnXAlkoN',\n",
       " u'spotify:track:4xsmOLphkbvpJV7i6tvhKr']"
      ]
     },
     "execution_count": 113,
     "metadata": {},
     "output_type": "execute_result"
    }
   ],
   "source": [
    "tids"
   ]
  },
  {
   "cell_type": "code",
   "execution_count": 118,
   "metadata": {
    "collapsed": false
   },
   "outputs": [
    {
     "name": "stdout",
     "output_type": "stream",
     "text": [
      "(' ', 0, [u'Migos', u'Nicki Minaj', u'Cardi B'], u'MotorSport', u'spotify:track:4wFjTWCunQFKtukqrNijEt')\n",
      "(' ', 1, [u'Migos', u'Nicki Minaj', u'Cardi B'], u'MotorSport', u'spotify:track:5raxHz5pB08qa7Ge3LwrMr')\n",
      "(' ', 2, [u'Migos', u'Nicki Minaj', u'Cardi B'], u'MotorSport', u'spotify:track:5DnJLyEE7H8ykMpGshlKy5')\n",
      "(' ', 3, [u'3 Dope Brothas'], u'Motor Sport (Originally Performed by Migos, Nicki Minaj & Cardi B) [Instrumental]', u'spotify:track:21pln2er9Vpk8AhBQ4VUEs')\n",
      "(' ', 4, [u'i-genius'], u'Motorsport (Originally Performed By Migos, Nicki Minaj & Cardi B)', u'spotify:track:0bMqUbRs5r5aoTzrP6mA3G')\n",
      "(' ', 5, [u'Karaoke Pro'], u'MotorSport (Originally Performed by Migos, Nicki Minaj, & Cardi B) - Instrumental Version', u'spotify:track:7qPuZdABkWCsHKZH5fSy4P')\n",
      "(' ', 6, [u'Karaoke Pro'], u'MotorSport (Originally Performed by Migos, Nicki Minaj, & Cardi B) - Karaoke Version', u'spotify:track:7GVx8lFtqehAM4v9mrPqON')\n",
      "(' ', 7, [u'2017 Dynamo Hitz'], u'MotorSport', u'spotify:track:34zBwp36K4bllpwnXAlkoN')\n",
      "(' ', 8, [u'2017 Dynamo Hitz'], u'MotorSport', u'spotify:track:4xsmOLphkbvpJV7i6tvhKr')\n"
     ]
    }
   ],
   "source": [
    "results = sp.search(q='Nicki Minaj, Migos, Cardi B', limit=50)\n",
    "tids = []\n",
    "for i, t in enumerate(results['tracks']['items']):\n",
    "    print(' ', i, [a['name'] for a in t['artists']], t['name'], t['uri'])\n",
    "    tids.append(t['uri'])"
   ]
  },
  {
   "cell_type": "code",
   "execution_count": 95,
   "metadata": {
    "collapsed": true
   },
   "outputs": [],
   "source": [
    "# Given song name, try to match on artist name\n",
    "results = sp.search(q=topSongs.iloc[11].song_name)"
   ]
  },
  {
   "cell_type": "code",
   "execution_count": 109,
   "metadata": {
    "collapsed": true
   },
   "outputs": [],
   "source": [
    "i,t = enumerate(results['tracks']['items'])"
   ]
  },
  {
   "cell_type": "code",
   "execution_count": 117,
   "metadata": {
    "collapsed": false
   },
   "outputs": [
    {
     "name": "stdout",
     "output_type": "stream",
     "text": [
      "[u'Migos', u'Nicki Minaj', u'Cardi B']\n"
     ]
    }
   ],
   "source": [
    "print [a['name'] for a in  t['artists']]"
   ]
  },
  {
   "cell_type": "code",
   "execution_count": 108,
   "metadata": {
    "collapsed": false
   },
   "outputs": [
    {
     "name": "stdout",
     "output_type": "stream",
     "text": [
      "{u'album': {u'album_type': u'album', u'name': u'SR3MM', u'external_urls': {u'spotify': u'https://open.spotify.com/album/4vLYreWxd2ptOAzPwTyBI3'}, u'release_date': u'2018-05-04', u'uri': u'spotify:album:4vLYreWxd2ptOAzPwTyBI3', u'href': u'https://api.spotify.com/v1/albums/4vLYreWxd2ptOAzPwTyBI3', u'artists': [{u'name': u'Rae Sremmurd', u'external_urls': {u'spotify': u'https://open.spotify.com/artist/7iZtZyCzp3LItcw1wtPI3D'}, u'uri': u'spotify:artist:7iZtZyCzp3LItcw1wtPI3D', u'href': u'https://api.spotify.com/v1/artists/7iZtZyCzp3LItcw1wtPI3D', u'type': u'artist', u'id': u'7iZtZyCzp3LItcw1wtPI3D'}, {u'name': u'Swae Lee', u'external_urls': {u'spotify': u'https://open.spotify.com/artist/1zNqQNIdeOUZHb8zbZRFMX'}, u'uri': u'spotify:artist:1zNqQNIdeOUZHb8zbZRFMX', u'href': u'https://api.spotify.com/v1/artists/1zNqQNIdeOUZHb8zbZRFMX', u'type': u'artist', u'id': u'1zNqQNIdeOUZHb8zbZRFMX'}, {u'name': u'Slim Jxmmi', u'external_urls': {u'spotify': u'https://open.spotify.com/artist/7EEiVZvj6RCEtVX2F2pyxu'}, u'uri': u'spotify:artist:7EEiVZvj6RCEtVX2F2pyxu', u'href': u'https://api.spotify.com/v1/artists/7EEiVZvj6RCEtVX2F2pyxu', u'type': u'artist', u'id': u'7EEiVZvj6RCEtVX2F2pyxu'}], u'images': [{u'url': u'https://i.scdn.co/image/a6a430b102b8074707ca65039485afe71018c6c0', u'width': 640, u'height': 640}, {u'url': u'https://i.scdn.co/image/4d694f1e44612792e058a6acc003f3764e786ecc', u'width': 300, u'height': 300}, {u'url': u'https://i.scdn.co/image/5aba6e5cf640f54e3191fb7fd4cc1f01b7978ea1', u'width': 64, u'height': 64}], u'type': u'album', u'id': u'4vLYreWxd2ptOAzPwTyBI3', u'available_markets': [u'AD', u'AR', u'AT', u'AU', u'BE', u'BG', u'BO', u'BR', u'CA', u'CH', u'CL', u'CO', u'CR', u'CY', u'CZ', u'DE', u'DK', u'DO', u'EC', u'EE', u'ES', u'FI', u'FR', u'GB', u'GR', u'GT', u'HK', u'HN', u'HU', u'ID', u'IE', u'IL', u'IS', u'IT', u'JP', u'LI', u'LT', u'LU', u'LV', u'MC', u'MT', u'MX', u'MY', u'NI', u'NL', u'NO', u'NZ', u'PA', u'PE', u'PH', u'PL', u'PT', u'PY', u'RO', u'SE', u'SG', u'SK', u'SV', u'TH', u'TR', u'TW', u'US', u'UY', u'VN', u'ZA'], u'release_date_precision': u'day'}, u'is_local': False, u'name': u'Powerglide (feat. Juicy J) - From SR3MM', u'uri': u'spotify:track:1BuZAIO8WZpavWVbbq3Lci', u'external_urls': {u'spotify': u'https://open.spotify.com/track/1BuZAIO8WZpavWVbbq3Lci'}, u'popularity': 87, u'explicit': True, u'preview_url': None, u'track_number': 7, u'disc_number': 1, u'href': u'https://api.spotify.com/v1/tracks/1BuZAIO8WZpavWVbbq3Lci', u'artists': [{u'name': u'Rae Sremmurd', u'external_urls': {u'spotify': u'https://open.spotify.com/artist/7iZtZyCzp3LItcw1wtPI3D'}, u'uri': u'spotify:artist:7iZtZyCzp3LItcw1wtPI3D', u'href': u'https://api.spotify.com/v1/artists/7iZtZyCzp3LItcw1wtPI3D', u'type': u'artist', u'id': u'7iZtZyCzp3LItcw1wtPI3D'}, {u'name': u'Swae Lee', u'external_urls': {u'spotify': u'https://open.spotify.com/artist/1zNqQNIdeOUZHb8zbZRFMX'}, u'uri': u'spotify:artist:1zNqQNIdeOUZHb8zbZRFMX', u'href': u'https://api.spotify.com/v1/artists/1zNqQNIdeOUZHb8zbZRFMX', u'type': u'artist', u'id': u'1zNqQNIdeOUZHb8zbZRFMX'}, {u'name': u'Slim Jxmmi', u'external_urls': {u'spotify': u'https://open.spotify.com/artist/7EEiVZvj6RCEtVX2F2pyxu'}, u'uri': u'spotify:artist:7EEiVZvj6RCEtVX2F2pyxu', u'href': u'https://api.spotify.com/v1/artists/7EEiVZvj6RCEtVX2F2pyxu', u'type': u'artist', u'id': u'7EEiVZvj6RCEtVX2F2pyxu'}, {u'name': u'Juicy J', u'external_urls': {u'spotify': u'https://open.spotify.com/artist/5gCRApTajqwbnHHPbr2Fpi'}, u'uri': u'spotify:artist:5gCRApTajqwbnHHPbr2Fpi', u'href': u'https://api.spotify.com/v1/artists/5gCRApTajqwbnHHPbr2Fpi', u'type': u'artist', u'id': u'5gCRApTajqwbnHHPbr2Fpi'}], u'duration_ms': 332300, u'external_ids': {u'isrc': u'USUM71802281'}, u'type': u'track', u'id': u'1BuZAIO8WZpavWVbbq3Lci', u'available_markets': [u'AD', u'AR', u'AT', u'AU', u'BE', u'BG', u'BO', u'BR', u'CA', u'CH', u'CL', u'CO', u'CR', u'CY', u'CZ', u'DE', u'DK', u'DO', u'EC', u'EE', u'ES', u'FI', u'FR', u'GB', u'GR', u'GT', u'HK', u'HN', u'HU', u'ID', u'IE', u'IL', u'IS', u'IT', u'JP', u'LI', u'LT', u'LU', u'LV', u'MC', u'MT', u'MX', u'MY', u'NI', u'NL', u'NO', u'NZ', u'PA', u'PE', u'PH', u'PL', u'PT', u'PY', u'RO', u'SE', u'SG', u'SK', u'SV', u'TH', u'TR', u'TW', u'US', u'UY', u'VN', u'ZA']}\n",
      "{u'album': {u'album_type': u'album', u'name': u'SR3MM', u'external_urls': {u'spotify': u'https://open.spotify.com/album/1a8jhtRIt7GCouH7feFZRb'}, u'release_date': u'2018-05-04', u'uri': u'spotify:album:1a8jhtRIt7GCouH7feFZRb', u'href': u'https://api.spotify.com/v1/albums/1a8jhtRIt7GCouH7feFZRb', u'artists': [{u'name': u'Rae Sremmurd', u'external_urls': {u'spotify': u'https://open.spotify.com/artist/7iZtZyCzp3LItcw1wtPI3D'}, u'uri': u'spotify:artist:7iZtZyCzp3LItcw1wtPI3D', u'href': u'https://api.spotify.com/v1/artists/7iZtZyCzp3LItcw1wtPI3D', u'type': u'artist', u'id': u'7iZtZyCzp3LItcw1wtPI3D'}, {u'name': u'Swae Lee', u'external_urls': {u'spotify': u'https://open.spotify.com/artist/1zNqQNIdeOUZHb8zbZRFMX'}, u'uri': u'spotify:artist:1zNqQNIdeOUZHb8zbZRFMX', u'href': u'https://api.spotify.com/v1/artists/1zNqQNIdeOUZHb8zbZRFMX', u'type': u'artist', u'id': u'1zNqQNIdeOUZHb8zbZRFMX'}, {u'name': u'Slim Jxmmi', u'external_urls': {u'spotify': u'https://open.spotify.com/artist/7EEiVZvj6RCEtVX2F2pyxu'}, u'uri': u'spotify:artist:7EEiVZvj6RCEtVX2F2pyxu', u'href': u'https://api.spotify.com/v1/artists/7EEiVZvj6RCEtVX2F2pyxu', u'type': u'artist', u'id': u'7EEiVZvj6RCEtVX2F2pyxu'}], u'images': [{u'url': u'https://i.scdn.co/image/1712948f55e9a85a410dc17314c509d5c8ee5962', u'width': 640, u'height': 640}, {u'url': u'https://i.scdn.co/image/babd5d08469649fb05d3db438e3368e12aa863e9', u'width': 300, u'height': 300}, {u'url': u'https://i.scdn.co/image/f34e64f6055b0f99348ca6b29042b7a72884ee0f', u'width': 64, u'height': 64}], u'type': u'album', u'id': u'1a8jhtRIt7GCouH7feFZRb', u'available_markets': [u'CA', u'GB', u'ID', u'IE', u'MY', u'SG', u'TR', u'US'], u'release_date_precision': u'day'}, u'is_local': False, u'name': u'Powerglide (feat. Juicy J) - From SR3MM', u'uri': u'spotify:track:2FT4BjYct7I6z6UFVqUrfU', u'external_urls': {u'spotify': u'https://open.spotify.com/track/2FT4BjYct7I6z6UFVqUrfU'}, u'popularity': 49, u'explicit': False, u'preview_url': None, u'track_number': 7, u'disc_number': 1, u'href': u'https://api.spotify.com/v1/tracks/2FT4BjYct7I6z6UFVqUrfU', u'artists': [{u'name': u'Rae Sremmurd', u'external_urls': {u'spotify': u'https://open.spotify.com/artist/7iZtZyCzp3LItcw1wtPI3D'}, u'uri': u'spotify:artist:7iZtZyCzp3LItcw1wtPI3D', u'href': u'https://api.spotify.com/v1/artists/7iZtZyCzp3LItcw1wtPI3D', u'type': u'artist', u'id': u'7iZtZyCzp3LItcw1wtPI3D'}, {u'name': u'Swae Lee', u'external_urls': {u'spotify': u'https://open.spotify.com/artist/1zNqQNIdeOUZHb8zbZRFMX'}, u'uri': u'spotify:artist:1zNqQNIdeOUZHb8zbZRFMX', u'href': u'https://api.spotify.com/v1/artists/1zNqQNIdeOUZHb8zbZRFMX', u'type': u'artist', u'id': u'1zNqQNIdeOUZHb8zbZRFMX'}, {u'name': u'Slim Jxmmi', u'external_urls': {u'spotify': u'https://open.spotify.com/artist/7EEiVZvj6RCEtVX2F2pyxu'}, u'uri': u'spotify:artist:7EEiVZvj6RCEtVX2F2pyxu', u'href': u'https://api.spotify.com/v1/artists/7EEiVZvj6RCEtVX2F2pyxu', u'type': u'artist', u'id': u'7EEiVZvj6RCEtVX2F2pyxu'}, {u'name': u'Juicy J', u'external_urls': {u'spotify': u'https://open.spotify.com/artist/5gCRApTajqwbnHHPbr2Fpi'}, u'uri': u'spotify:artist:5gCRApTajqwbnHHPbr2Fpi', u'href': u'https://api.spotify.com/v1/artists/5gCRApTajqwbnHHPbr2Fpi', u'type': u'artist', u'id': u'5gCRApTajqwbnHHPbr2Fpi'}], u'duration_ms': 332300, u'external_ids': {u'isrc': u'USUM71802282'}, u'type': u'track', u'id': u'2FT4BjYct7I6z6UFVqUrfU', u'available_markets': [u'CA', u'GB', u'ID', u'IE', u'MY', u'SG', u'TR', u'US']}\n"
     ]
    }
   ],
   "source": [
    "for i,t in enumerate(results['tracks']['items']):\n",
    "    for ix in range(len(t)):\n",
    "        print 'Artist(s): ' + ', '.join([a['name'] for a in i[ix]['artists']])\n",
    "        print 'Song: ' + i[ix]['name']"
   ]
  },
  {
   "cell_type": "code",
   "execution_count": 93,
   "metadata": {
    "collapsed": false
   },
   "outputs": [
    {
     "ename": "KeyError",
     "evalue": "1",
     "output_type": "error",
     "traceback": [
      "\u001b[0;31m---------------------------------------------------------------------------\u001b[0m",
      "\u001b[0;31mKeyError\u001b[0m                                  Traceback (most recent call last)",
      "\u001b[0;32m<ipython-input-93-8ff611b99fc9>\u001b[0m in \u001b[0;36m<module>\u001b[0;34m()\u001b[0m\n\u001b[0;32m----> 1\u001b[0;31m \u001b[0mt\u001b[0m\u001b[0;34m[\u001b[0m\u001b[0;36m1\u001b[0m\u001b[0;34m]\u001b[0m\u001b[0;34m[\u001b[0m\u001b[0;34m'name'\u001b[0m\u001b[0;34m]\u001b[0m\u001b[0;34m\u001b[0m\u001b[0m\n\u001b[0m",
      "\u001b[0;31mKeyError\u001b[0m: 1"
     ]
    }
   ],
   "source": [
    "t[1]['name']"
   ]
  },
  {
   "cell_type": "code",
   "execution_count": 85,
   "metadata": {
    "collapsed": false
   },
   "outputs": [
    {
     "data": {
      "text/plain": [
       "[{u'external_urls': {u'spotify': u'https://open.spotify.com/artist/7iZtZyCzp3LItcw1wtPI3D'},\n",
       "  u'href': u'https://api.spotify.com/v1/artists/7iZtZyCzp3LItcw1wtPI3D',\n",
       "  u'id': u'7iZtZyCzp3LItcw1wtPI3D',\n",
       "  u'name': u'Rae Sremmurd',\n",
       "  u'type': u'artist',\n",
       "  u'uri': u'spotify:artist:7iZtZyCzp3LItcw1wtPI3D'},\n",
       " {u'external_urls': {u'spotify': u'https://open.spotify.com/artist/1zNqQNIdeOUZHb8zbZRFMX'},\n",
       "  u'href': u'https://api.spotify.com/v1/artists/1zNqQNIdeOUZHb8zbZRFMX',\n",
       "  u'id': u'1zNqQNIdeOUZHb8zbZRFMX',\n",
       "  u'name': u'Swae Lee',\n",
       "  u'type': u'artist',\n",
       "  u'uri': u'spotify:artist:1zNqQNIdeOUZHb8zbZRFMX'},\n",
       " {u'external_urls': {u'spotify': u'https://open.spotify.com/artist/7EEiVZvj6RCEtVX2F2pyxu'},\n",
       "  u'href': u'https://api.spotify.com/v1/artists/7EEiVZvj6RCEtVX2F2pyxu',\n",
       "  u'id': u'7EEiVZvj6RCEtVX2F2pyxu',\n",
       "  u'name': u'Slim Jxmmi',\n",
       "  u'type': u'artist',\n",
       "  u'uri': u'spotify:artist:7EEiVZvj6RCEtVX2F2pyxu'},\n",
       " {u'external_urls': {u'spotify': u'https://open.spotify.com/artist/5gCRApTajqwbnHHPbr2Fpi'},\n",
       "  u'href': u'https://api.spotify.com/v1/artists/5gCRApTajqwbnHHPbr2Fpi',\n",
       "  u'id': u'5gCRApTajqwbnHHPbr2Fpi',\n",
       "  u'name': u'Juicy J',\n",
       "  u'type': u'artist',\n",
       "  u'uri': u'spotify:artist:5gCRApTajqwbnHHPbr2Fpi'}]"
      ]
     },
     "execution_count": 85,
     "metadata": {},
     "output_type": "execute_result"
    }
   ],
   "source": [
    "t[1]['artists']"
   ]
  },
  {
   "cell_type": "markdown",
   "metadata": {},
   "source": [
    "Assess coverage using this methodology."
   ]
  },
  {
   "cell_type": "code",
   "execution_count": 58,
   "metadata": {
    "collapsed": false
   },
   "outputs": [
    {
     "name": "stderr",
     "output_type": "stream",
     "text": [
      "/anaconda/envs/p2/lib/python2.7/site-packages/ipykernel/__main__.py:5: UnicodeWarning: Unicode equal comparison failed to convert both arguments to Unicode - interpreting them as being unequal\n"
     ]
    },
    {
     "name": "stdout",
     "output_type": "stream",
     "text": [
      "retrying ...1secs\n",
      "retrying ...1secs\n"
     ]
    }
   ],
   "source": [
    "songList = []\n",
    "for s in range(len(topSongs)):\n",
    "    results = sp.search(q=topSongs.iloc[s].artist_name)\n",
    "    for i, t in enumerate(results['tracks']['items']):\n",
    "        if t['name'] == topSongs.iloc[s].song_name:\n",
    "            #print(t['name'], t['id'])\n",
    "            songList.append((t['name'], t['id']))"
   ]
  },
  {
   "cell_type": "code",
   "execution_count": 59,
   "metadata": {
    "collapsed": false
   },
   "outputs": [
    {
     "data": {
      "text/plain": [
       "2832"
      ]
     },
     "execution_count": 59,
     "metadata": {},
     "output_type": "execute_result"
    }
   ],
   "source": [
    "len(songList)"
   ]
  },
  {
   "cell_type": "code",
   "execution_count": 67,
   "metadata": {
    "collapsed": false
   },
   "outputs": [
    {
     "data": {
      "text/plain": [
       "(u'Miss It', u'5WPXnJulBVflChZ8qIe91d')"
      ]
     },
     "execution_count": 67,
     "metadata": {},
     "output_type": "execute_result"
    }
   ],
   "source": [
    "songList[203]"
   ]
  },
  {
   "cell_type": "code",
   "execution_count": null,
   "metadata": {
    "collapsed": true
   },
   "outputs": [],
   "source": []
  }
 ],
 "metadata": {
  "anaconda-cloud": {},
  "kernelspec": {
   "display_name": "Python [p2]",
   "language": "python",
   "name": "Python [p2]"
  },
  "language_info": {
   "codemirror_mode": {
    "name": "ipython",
    "version": 2
   },
   "file_extension": ".py",
   "mimetype": "text/x-python",
   "name": "python",
   "nbconvert_exporter": "python",
   "pygments_lexer": "ipython2",
   "version": "2.7.12"
  }
 },
 "nbformat": 4,
 "nbformat_minor": 0
}
